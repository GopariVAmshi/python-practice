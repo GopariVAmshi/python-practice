{
 "cells": [
  {
   "cell_type": "markdown",
   "metadata": {},
   "source": [
    "# Find pi to the nth number"
   ]
  },
  {
   "cell_type": "code",
   "execution_count": 1,
   "metadata": {},
   "outputs": [
    {
     "name": "stdout",
     "output_type": "stream",
     "text": [
      "Enter the number of position to go after the decimal:8\n",
      "The number is:3.14159265\n"
     ]
    }
   ],
   "source": [
    "import math \n",
    "n = int(input(\"Enter the number of position to go after the decimal:\"))\n",
    "print(\"The number is:{:.{}f}\".format(math.pi,n))"
   ]
  },
  {
   "cell_type": "code",
   "execution_count": 2,
   "metadata": {},
   "outputs": [
    {
     "name": "stdout",
     "output_type": "stream",
     "text": [
      "3.141592653589793\n"
     ]
    }
   ],
   "source": [
    "print(math.pi)"
   ]
  },
  {
   "cell_type": "code",
   "execution_count": null,
   "metadata": {},
   "outputs": [],
   "source": []
  },
  {
   "cell_type": "code",
   "execution_count": null,
   "metadata": {},
   "outputs": [],
   "source": []
  },
  {
   "cell_type": "code",
   "execution_count": null,
   "metadata": {},
   "outputs": [],
   "source": []
  },
  {
   "cell_type": "markdown",
   "metadata": {},
   "source": [
    "# Find e to the Nth Digit"
   ]
  },
  {
   "cell_type": "code",
   "execution_count": 3,
   "metadata": {},
   "outputs": [
    {
     "name": "stdout",
     "output_type": "stream",
     "text": [
      "Enter the number of position to go after the decimal:5\n",
      "The number is:2.71828\n"
     ]
    }
   ],
   "source": [
    "import math \n",
    "n = int(input(\"Enter the number of position to go after the decimal:\"))\n",
    "print(\"The number is:{:.{}f}\".format(math.e,n))"
   ]
  },
  {
   "cell_type": "code",
   "execution_count": 1,
   "metadata": {},
   "outputs": [
    {
     "name": "stdout",
     "output_type": "stream",
     "text": [
      "Enter the number of digits you want after the decimal for e: 5\n",
      "2.71828\n"
     ]
    }
   ],
   "source": [
    "import math \n",
    "def CalculateE(roundVal):\n",
    "    someE = round(math.e,roundVal)\n",
    "    e = str(someE)\n",
    "    someList = list(e)\n",
    "    return someE\n",
    "while True:\n",
    "    try:\n",
    "        roundTo=int(input('Enter the number of digits you want after the decimal for e: '))\n",
    "        \n",
    "        \n",
    "        print(CalculateE(roundTo))\n",
    "        break\n",
    "    except:\n",
    "        print(\"You did not enter an integer\")\n",
    "        continue"
   ]
  },
  {
   "cell_type": "code",
   "execution_count": null,
   "metadata": {},
   "outputs": [],
   "source": []
  },
  {
   "cell_type": "code",
   "execution_count": null,
   "metadata": {},
   "outputs": [],
   "source": []
  },
  {
   "cell_type": "code",
   "execution_count": null,
   "metadata": {},
   "outputs": [],
   "source": []
  },
  {
   "cell_type": "markdown",
   "metadata": {},
   "source": [
    "# Fibonacci sequence"
   ]
  },
  {
   "cell_type": "code",
   "execution_count": 4,
   "metadata": {},
   "outputs": [],
   "source": [
    "def Fibo(n):\n",
    "    n1=1\n",
    "    n2=1\n",
    "    result=[]\n",
    "    for i in range(n):\n",
    "        result.append(n1)\n",
    "        n1,n2=n2,n1+n2\n",
    "    return result"
   ]
  },
  {
   "cell_type": "code",
   "execution_count": 5,
   "metadata": {},
   "outputs": [
    {
     "data": {
      "text/plain": [
       "[1, 1, 2, 3, 5, 8, 13, 21, 34, 55, 89, 144, 233, 377, 610]"
      ]
     },
     "execution_count": 5,
     "metadata": {},
     "output_type": "execute_result"
    }
   ],
   "source": [
    "Fibo(15)"
   ]
  },
  {
   "cell_type": "code",
   "execution_count": null,
   "metadata": {},
   "outputs": [],
   "source": []
  },
  {
   "cell_type": "code",
   "execution_count": null,
   "metadata": {},
   "outputs": [],
   "source": []
  },
  {
   "cell_type": "code",
   "execution_count": null,
   "metadata": {},
   "outputs": [],
   "source": []
  },
  {
   "cell_type": "markdown",
   "metadata": {},
   "source": [
    "# Prime Factorization"
   ]
  },
  {
   "cell_type": "code",
   "execution_count": 2,
   "metadata": {},
   "outputs": [],
   "source": [
    "import math\n",
    "def PrimeFactor(n):\n",
    "    r=[]\n",
    "    while n%2==0:\n",
    "        r.append(2)\n",
    "        n=n/2\n",
    "    for i in range(3,int(math.sqrt(n))+1,2):\n",
    "        while n%i==0:\n",
    "            r.append(i)\n",
    "            n=n/i\n",
    "        \n",
    "    if n>2:\n",
    "        r.append(n)\n",
    "    print(r)\n"
   ]
  },
  {
   "cell_type": "code",
   "execution_count": 3,
   "metadata": {},
   "outputs": [
    {
     "name": "stdout",
     "output_type": "stream",
     "text": [
      "[3, 3, 5, 7]\n"
     ]
    }
   ],
   "source": [
    "PrimeFactor(315)"
   ]
  },
  {
   "cell_type": "code",
   "execution_count": null,
   "metadata": {},
   "outputs": [],
   "source": []
  },
  {
   "cell_type": "code",
   "execution_count": null,
   "metadata": {},
   "outputs": [],
   "source": []
  },
  {
   "cell_type": "code",
   "execution_count": null,
   "metadata": {},
   "outputs": [],
   "source": []
  },
  {
   "cell_type": "code",
   "execution_count": null,
   "metadata": {},
   "outputs": [],
   "source": []
  },
  {
   "cell_type": "markdown",
   "metadata": {},
   "source": [
    "# Next Prime Number"
   ]
  },
  {
   "cell_type": "code",
   "execution_count": 9,
   "metadata": {},
   "outputs": [
    {
     "name": "stdout",
     "output_type": "stream",
     "text": [
      "Continue finding prime numbers (enter y or n)?:\n",
      "y\n",
      "Next prime is:3\n",
      "\n",
      "Continue finding prime numbers (enter y or n):\n",
      "y\n",
      "Next prime is:5\n",
      "\n",
      "Continue finding prime numbers (enter y or n):\n",
      "y\n",
      "Next prime is:7\n",
      "\n",
      "Continue finding prime numbers (enter y or n):\n",
      "y\n",
      "Next prime is:11\n",
      "\n",
      "Continue finding prime numbers (enter y or n):\n",
      "y\n",
      "Next prime is:13\n",
      "\n",
      "Continue finding prime numbers (enter y or n):\n",
      "y\n",
      "Next prime is:17\n",
      "\n",
      "Continue finding prime numbers (enter y or n):\n",
      "y\n",
      "Next prime is:19\n",
      "\n",
      "Continue finding prime numbers (enter y or n):\n",
      "yn\n",
      "Next prime is:23\n",
      "\n",
      "Continue finding prime numbers (enter y or n):\n",
      "yes\n",
      "Next prime is:29\n",
      "\n",
      "Continue finding prime numbers (enter y or n):\n",
      "a\n",
      "you stopped finding prime numbers.\n"
     ]
    }
   ],
   "source": [
    "choice = input(\"Continue finding prime numbers (enter y or n)?:\"+\"\\n\")\n",
    "current = 1\n",
    "\n",
    "\n",
    "def is_prime(n):\n",
    "    if n%2==0:\n",
    "        return False\n",
    "    for i in range(3,int(n**0.5)+1,2):\n",
    "        if n%i==0:\n",
    "            return False\n",
    "    return True\n",
    "while choice.lower().startswith('y'):\n",
    "    current += 1\n",
    "    while is_prime(current)==False:\n",
    "        current += 1\n",
    "    print(\"Next prime is:\"+str(current)+\"\\n\")\n",
    "    choice =input(\"Continue finding prime numbers (enter y or n):\"+\"\\n\")\n",
    "else:\n",
    "    print(\"you stopped finding prime numbers.\")"
   ]
  },
  {
   "cell_type": "code",
   "execution_count": null,
   "metadata": {},
   "outputs": [],
   "source": []
  },
  {
   "cell_type": "code",
   "execution_count": null,
   "metadata": {},
   "outputs": [],
   "source": []
  },
  {
   "cell_type": "code",
   "execution_count": null,
   "metadata": {},
   "outputs": [],
   "source": []
  },
  {
   "cell_type": "markdown",
   "metadata": {},
   "source": [
    "# Find Cost of Tile to Cover W x H Floor"
   ]
  },
  {
   "cell_type": "code",
   "execution_count": 13,
   "metadata": {},
   "outputs": [
    {
     "name": "stdout",
     "output_type": "stream",
     "text": [
      "Enter the width of floor:5\n",
      "Enter the length of floor:5\n",
      "Cost of Tile:25\n",
      "Cost to Tile 5.00 x 5.00 floor is: $625.00\n"
     ]
    }
   ],
   "source": [
    "width = float(input(\"Enter the width of floor:\"))\n",
    "length = float(input(\"Enter the length of floor:\"))\n",
    "cost = float(input(\"Cost of Tile:\"))\n",
    "print(\"Cost to Tile %.2f x %.2f floor is: $%.2f\"%(width,length,width*length*cost))"
   ]
  },
  {
   "cell_type": "code",
   "execution_count": 17,
   "metadata": {},
   "outputs": [
    {
     "name": "stdout",
     "output_type": "stream",
     "text": [
      "Cost for m^2: 2.65\n",
      "Meters of the width: 2.4\n",
      "Meters of the height:1.6\n",
      "The cost is: 31.80 $\n"
     ]
    }
   ],
   "source": [
    "cost = float(input(\"Cost for m^2: \"))\n",
    "width = float(input(\"Meters of the width: \"))\n",
    "height = float(input(\"Meters of the height:\"))\n",
    "\n",
    "print(\"The cost is: %.2f $\"%(float(cost*width*length)))"
   ]
  },
  {
   "cell_type": "code",
   "execution_count": null,
   "metadata": {},
   "outputs": [],
   "source": []
  },
  {
   "cell_type": "code",
   "execution_count": null,
   "metadata": {},
   "outputs": [],
   "source": []
  },
  {
   "cell_type": "code",
   "execution_count": null,
   "metadata": {},
   "outputs": [],
   "source": []
  },
  {
   "cell_type": "markdown",
   "metadata": {},
   "source": [
    "# Mortgage Calculator"
   ]
  },
  {
   "cell_type": "code",
   "execution_count": 9,
   "metadata": {},
   "outputs": [
    {
     "name": "stdout",
     "output_type": "stream",
     "text": [
      "Enter mortgage term(in months):35\n",
      "Enter the interest rate:6.5\n",
      "Enter loan value:3000000\n",
      "Monthly payment for $3000000.00 \n",
      "2.916667 year mortgage at 6.50 % interest rate is: $94327.10\n"
     ]
    }
   ],
   "source": [
    "months = int(input(\"Enter mortgage term(in months):\"))\n",
    "rate = float(input(\"Enter the interest rate:\"))\n",
    "loan = float(input(\"Enter loan value:\"))\n",
    "\n",
    "monthly_rate = rate/100/12\n",
    "payment = (monthly_rate/(1-(1+monthly_rate)**(-months)))*loan\n",
    "\n",
    "print(\"Monthly payment for $%.2f \\n%2f year mortgage at %.2f %% interest rate is: $%.2f\"% (loan,(months/12),rate,payment))"
   ]
  },
  {
   "cell_type": "code",
   "execution_count": null,
   "metadata": {},
   "outputs": [],
   "source": []
  },
  {
   "cell_type": "code",
   "execution_count": null,
   "metadata": {},
   "outputs": [],
   "source": []
  },
  {
   "cell_type": "code",
   "execution_count": null,
   "metadata": {},
   "outputs": [],
   "source": []
  },
  {
   "cell_type": "markdown",
   "metadata": {},
   "source": [
    "# Change Return Program"
   ]
  },
  {
   "cell_type": "code",
   "execution_count": 3,
   "metadata": {},
   "outputs": [
    {
     "name": "stdout",
     "output_type": "stream",
     "text": [
      "Enter the amount:116.1\n",
      "116.1\n",
      "Quaters: 4.0\n",
      "dimes: 1.0\n",
      "nickels: 1.0\n",
      "pennies: 1.1\n"
     ]
    }
   ],
   "source": [
    "import math\n",
    "quarters = 25\n",
    "dimes = 10\n",
    "nickels = 5\n",
    "pennies = 1\n",
    "dollar = round(float(input(\"Enter the amount:\")),2)\n",
    "print(dollar)\n",
    "if dollar<0:\n",
    "    print(\"Dollar amount must be positive.\")\n",
    "else:\n",
    "    quarters = (dollar)//25\n",
    "    dimes = (dollar%25)//10\n",
    "    nickels = (dollar%25%10)//5\n",
    "    pennies = (dollar%25%10%5)//1\n",
    "    print(\"Quaters:\",(quarters))\n",
    "    print(\"dimes:\",(dimes))\n",
    "    print(\"nickels:\",(nickels))\n",
    "    frac,whole = math.modf(dollar)\n",
    "    a = round(frac,2)\n",
    "    print(\"pennies:\",pennies+a)"
   ]
  },
  {
   "cell_type": "code",
   "execution_count": null,
   "metadata": {},
   "outputs": [],
   "source": []
  }
 ],
 "metadata": {
  "kernelspec": {
   "display_name": "Python 3",
   "language": "python",
   "name": "python3"
  },
  "language_info": {
   "codemirror_mode": {
    "name": "ipython",
    "version": 3
   },
   "file_extension": ".py",
   "mimetype": "text/x-python",
   "name": "python",
   "nbconvert_exporter": "python",
   "pygments_lexer": "ipython3",
   "version": "3.7.3"
  }
 },
 "nbformat": 4,
 "nbformat_minor": 2
}
