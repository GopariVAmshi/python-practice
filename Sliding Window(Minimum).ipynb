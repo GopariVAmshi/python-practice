{
 "cells": [
  {
   "cell_type": "code",
   "execution_count": 1,
   "metadata": {},
   "outputs": [
    {
     "name": "stdout",
     "output_type": "stream",
     "text": [
      "Enter number of elements to be added to an array:10\n",
      "Enter elements to be added to an array\n",
      "1\n",
      "2\n",
      "3\n",
      "4\n",
      "5\n",
      "6\n",
      "7\n",
      "8\n",
      "9\n",
      "10\n",
      "Enter size of contiguous subarray:3\n",
      "Minimum for each and every contiguous subarray.\n",
      "1   2   3   4   5   6   7   8   "
     ]
    }
   ],
   "source": [
    "def printMax(arr,n,k):\n",
    "    '''\n",
    "     find the minimum for each and every contiguous subarray of size k.\n",
    "    \n",
    "    '''\n",
    "    min = 0\n",
    "    for i in range(n-k+1):\n",
    "        min=arr[i]\n",
    "        for j in range(1,k):\n",
    "            if arr[i+j]<min:\n",
    "                min=arr[i+j]\n",
    "        print(str(min),\" \",end=\" \")\n",
    "if __name__ == \"__main__\":\n",
    "    arr=[]\n",
    "    m=int(input(\"Enter number of elements to be added to an array:\"))\n",
    "    print(\"Enter elements to be added to an array\")\n",
    "    for i in range(0,m):\n",
    "        element = int(input())\n",
    "        arr.append(element)\n",
    "    n=len(arr)\n",
    "    k=int(input(\"Enter size of contiguous subarray:\"))\n",
    "    print(\"Minimum for each and every contiguous subarray.\")\n",
    "    printMax(arr,n,k)"
   ]
  }
 ],
 "metadata": {
  "kernelspec": {
   "display_name": "Python 3",
   "language": "python",
   "name": "python3"
  },
  "language_info": {
   "codemirror_mode": {
    "name": "ipython",
    "version": 3
   },
   "file_extension": ".py",
   "mimetype": "text/x-python",
   "name": "python",
   "nbconvert_exporter": "python",
   "pygments_lexer": "ipython3",
   "version": "3.7.3"
  }
 },
 "nbformat": 4,
 "nbformat_minor": 2
}
