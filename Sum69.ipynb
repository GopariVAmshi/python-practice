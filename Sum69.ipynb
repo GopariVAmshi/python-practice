{
 "cells": [
  {
   "cell_type": "markdown",
   "metadata": {},
   "source": [
    "### SUMMER OF '69: Return the sum of the numbers in the array, except ignore sections of numbers starting with a 6 and extending to the next 9 (every 6 will be followed by at least one 9).\n",
    "\n",
    "### returns the sum of numbers in between 6 and 9, including and excluding 6,9"
   ]
  },
  {
   "cell_type": "code",
   "execution_count": 9,
   "metadata": {},
   "outputs": [
    {
     "name": "stdout",
     "output_type": "stream",
     "text": [
      "sum of the numbers in array, except ignore sections of numbers starting with 6 and extending to the next 9: 6\n",
      "sum of integers including 6,9: 18\n",
      "sum of integers excluding 6,9: 3\n",
      "joining the number: 6129\n",
      "\n",
      "sum of the numbers in array, except ignore sections of numbers starting with 6 and extending to the next 9: 172\n",
      "sum of integers including 6,9: 252\n",
      "sum of integers excluding 6,9: 237\n",
      "joining the number: 632349\n",
      "\n"
     ]
    }
   ],
   "source": [
    "def sum69(arr):\n",
    "    for i in arr:\n",
    "        if 6 in arr:\n",
    "            index6 = arr.index(6)\n",
    "            index9 = arr.index(9,index6)\n",
    "    print(\"sum of the numbers in array, except ignore sections of numbers starting with 6 and extending to the next 9:\",sum(arr[0:index6])+sum(arr[index9+1::]))\n",
    "    a=sum(arr[index6:index9+1])\n",
    "    print(\"sum of integers including 6,9:\",a)\n",
    "    b=sum(arr[index6+1:index9])\n",
    "    print(\"sum of integers excluding 6,9:\",b)\n",
    "    print(\"joining the number:\",''.join(map(str,arr[index6:index9+1])))\n",
    "    print()\n",
    "sum69([1,2,3,6,1,2,9])\n",
    "sum69([6,3,234,9,133,34,5])"
   ]
  }
 ],
 "metadata": {
  "kernelspec": {
   "display_name": "Python 3",
   "language": "python",
   "name": "python3"
  },
  "language_info": {
   "codemirror_mode": {
    "name": "ipython",
    "version": 3
   },
   "file_extension": ".py",
   "mimetype": "text/x-python",
   "name": "python",
   "nbconvert_exporter": "python",
   "pygments_lexer": "ipython3",
   "version": "3.7.3"
  }
 },
 "nbformat": 4,
 "nbformat_minor": 2
}
