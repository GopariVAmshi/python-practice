{
 "cells": [
  {
   "cell_type": "code",
   "execution_count": 1,
   "metadata": {},
   "outputs": [
    {
     "name": "stdout",
     "output_type": "stream",
     "text": [
      "Number of strings:6\n",
      "string 1 : vamshi\n",
      "string 2 : vamshi\n",
      "string 3 : vamshi\n",
      "string 4 : mahesh\n",
      "string 5 : arjun\n",
      "string 6 : arjun\n",
      "Number of queries:5\n",
      "Query 1 : vamshi\n",
      "Query 2 : sandeep\n",
      "Query 3 : mahesh\n",
      "Query 4 : samanvi\n",
      "Query 5 : arjun\n",
      "\n",
      "The frequency of occurrence of each query string in strings\n",
      "\n",
      "query 1 : 3\n",
      "query 2 : 0\n",
      "query 3 : 1\n",
      "query 4 : 0\n",
      "query 5 : 2\n"
     ]
    }
   ],
   "source": [
    "def matchingStrings():\n",
    "    '''\n",
    "    \n",
    "    The function returns an array of integers representing the frequency of occurrence of each query string in strings.\n",
    "    \n",
    "    '''\n",
    "    strings_count = int(input(\"Number of strings:\"))\n",
    "    strings = []\n",
    "    for _ in range(1,strings_count+1):\n",
    "        strings_item = input(\"string %d : \"%_)\n",
    "        strings.append(strings_item)\n",
    "    queries_count = int(input(\"Number of queries:\"))\n",
    "    queries = []\n",
    "    for _ in range(1,queries_count+1):\n",
    "        queries_item = input(\"Query %d : \"%_)\n",
    "        queries.append(queries_item)\n",
    "    result = []\n",
    "    n=1\n",
    "    for q in queries:\n",
    "        counter = 0\n",
    "        for s in strings:\n",
    "            if str(q)==str(s):\n",
    "                counter +=1\n",
    "        result.append(counter)\n",
    "    print(\"\\nThe frequency of occurrence of each query string in strings\\n\")\n",
    "    for x in range(len(result)):\n",
    "            print(\"query\",n,\":\",result[x])\n",
    "            n+=1\n",
    "            \n",
    "matchingStrings()"
   ]
  }
 ],
 "metadata": {
  "kernelspec": {
   "display_name": "Python 3",
   "language": "python",
   "name": "python3"
  },
  "language_info": {
   "codemirror_mode": {
    "name": "ipython",
    "version": 3
   },
   "file_extension": ".py",
   "mimetype": "text/x-python",
   "name": "python",
   "nbconvert_exporter": "python",
   "pygments_lexer": "ipython3",
   "version": "3.7.3"
  }
 },
 "nbformat": 4,
 "nbformat_minor": 2
}
